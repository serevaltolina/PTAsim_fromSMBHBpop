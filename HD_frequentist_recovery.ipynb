{
 "cells": [
  {
   "cell_type": "markdown",
   "id": "ec73585b",
   "metadata": {},
   "source": [
    "# HD correlation frequentistic recovery: Optimal Statistic results"
   ]
  },
  {
   "cell_type": "markdown",
   "id": "fedd590c",
   "metadata": {},
   "source": [
    "In this notebook, we present the script to obtain the correlation between pulsars timing residuals and compare it with the Hellings Downs predictions. We used the **optimal statistic** (OS) tool, a frequentist estimator of the amplitude of the GWB that specifically looks for the spatial correlations between pulsars induced by the GWB. The 2023 updated version (contained in the python script *optimal_statistic_covariances.py*) of the OS allows to compute the average correlation in angular separation bins taking into account the covariance between the pulsar pairs (see [Allen & Romano 2023](https://arxiv.org/abs/2208.07230) for more details)."
   ]
  },
  {
   "cell_type": "code",
   "execution_count": 1,
   "id": "579672fd",
   "metadata": {},
   "outputs": [
    {
     "name": "stderr",
     "output_type": "stream",
     "text": [
      "Matplotlib created a temporary config/cache directory at /local/user/serena.valtolina/matplotlib-5hz9mk1o because the default path (/opt/pulsar/matplotlib) is not a writable directory; it is highly recommended to set the MPLCONFIGDIR environment variable to a writable directory, in particular to speed up the import of Matplotlib and to better support multiprocessing.\n"
     ]
    },
    {
     "name": "stdout",
     "output_type": "stream",
     "text": [
      "Warning: cannot find astropy, units support will not be available.\n"
     ]
    }
   ],
   "source": [
    "from __future__ import print_function, division\n",
    "\n",
    "import numpy as np\n",
    "import matplotlib.pyplot as plt\n",
    "from scipy import integrate\n",
    "import json\n",
    "\n",
    "from enterprise.signals import signal_base\n",
    "from enterprise.signals import gp_signals\n",
    "from enterprise.pulsar import Pulsar\n",
    "import enterprise.signals.parameter as parameter\n",
    "from enterprise.signals import utils\n",
    "from enterprise.signals import white_signals\n",
    "from enterprise_extensions import model_utils, blocks\n",
    "\n",
    "from optimal_statistic_covariances import OptimalStatistic, get_HD_curve\n",
    "#(source: https://gitlab.com/IPTA/ng_15yr_gwb_analysis_code)"
   ]
  },
  {
   "cell_type": "code",
   "execution_count": 2,
   "id": "2b73342a",
   "metadata": {},
   "outputs": [
    {
     "name": "stdout",
     "output_type": "stream",
     "text": [
      "[tempo2Util.C:396] Warning: [TIM1] Please place MODE flags in the parameter file \n",
      "[tempo2Util.C:401] Warning: [DUP1] duplicated warnings have been suppressed.\n"
     ]
    },
    {
     "name": "stderr",
     "output_type": "stream",
     "text": [
      "WARNING: Could not find pulsar distance for PSR J0751+1807. Setting value to 1 with 20% uncertainty.\n",
      "WARNING: Could not find pulsar distance for PSR J0900-3144. Setting value to 1 with 20% uncertainty.\n",
      "WARNING: Could not find pulsar distance for PSR J1738+0333. Setting value to 1 with 20% uncertainty.\n",
      "WARNING: Could not find pulsar distance for PSR J1751-2857. Setting value to 1 with 20% uncertainty.\n",
      "WARNING: Could not find pulsar distance for PSR J1801-1417. Setting value to 1 with 20% uncertainty.\n",
      "WARNING: Could not find pulsar distance for PSR J1804-2717. Setting value to 1 with 20% uncertainty.\n",
      "WARNING: Could not find pulsar distance for PSR J1843-1113. Setting value to 1 with 20% uncertainty.\n",
      "WARNING: Could not find pulsar distance for PSR J1911+1347. Setting value to 1 with 20% uncertainty.\n",
      "WARNING: Could not find pulsar distance for PSR J2322+2057. Setting value to 1 with 20% uncertainty.\n"
     ]
    }
   ],
   "source": [
    "# universe code: range 1001 - 1100\n",
    "univ_code = '1002'\n",
    "home_dir = './SMBHB_datasets/univ_'+univ_code+'/'\n",
    "\n",
    "# definition of the psrs array from .par and .tim files\n",
    "\n",
    "pulsar_list_dir = './pulsar_list.dat'\n",
    "pulsar_names = np.loadtxt(pulsar_list_dir,dtype=str)\n",
    "\n",
    "psrs = []\n",
    "for name in pulsar_names[:]:\n",
    "    par_dir = home_dir + 'parfiles/' + name + '.par'\n",
    "    tim_dir = home_dir + 'tims/' + name + '.tim'\n",
    "    psr = Pulsar(par_dir, tim_dir)\n",
    "    psrs.append(psr)"
   ]
  },
  {
   "cell_type": "code",
   "execution_count": 3,
   "id": "12edccc5",
   "metadata": {},
   "outputs": [],
   "source": [
    "Npsrs = len(psrs)\n",
    "n_pairs = int(Npsrs*(Npsrs-1)/2)\n",
    "n_pp_bin = 30 # number of pulsar pairs in each bin\n",
    "n_bins = int(n_pairs/n_pp_bin) # total number of bins"
   ]
  },
  {
   "cell_type": "code",
   "execution_count": 4,
   "id": "2fc74572",
   "metadata": {},
   "outputs": [],
   "source": [
    "# noise Maximum Likelihood values dictionary\n",
    "noise_ML_dir = './ml_params.json'\n",
    "with open(noise_ML_dir, 'r') as f:\n",
    "    noise_ML = json.load(f)\n",
    "    f.close()"
   ]
  },
  {
   "cell_type": "code",
   "execution_count": 5,
   "id": "f990e0dd",
   "metadata": {},
   "outputs": [],
   "source": [
    "# ENTERPRISE recovery model def\n",
    "#-------------------------------------------------------------------------\n",
    "\n",
    "\n",
    "# find the maximum time span to set GW frequency sampling\n",
    "tmin = [p.stoas.min() for p in psrs]\n",
    "tmax = [p.stoas.max() for p in psrs]\n",
    "Tspan = np.max(tmax) - np.min(tmin)\n",
    "\n",
    "# fixing EFAC and EQUAD\n",
    "efac = parameter.Constant(1.0) \n",
    "equad = parameter.Constant(-6)\n",
    "\n",
    "# white noise\n",
    "ef = white_signals.MeasurementNoise(efac=efac)\n",
    "eq = white_signals.TNEquadNoise(log10_tnequad = equad)\n",
    "\n",
    "# timing model\n",
    "tm = gp_signals.TimingModel() \n",
    "\n",
    "# GWB\n",
    "gw = blocks.common_red_noise_block(psd='powerlaw', prior='log-uniform', Tspan=Tspan, \n",
    "                                    components=9, gamma_val=4.33, name='gw')\n",
    "# model base\n",
    "model_base = tm + ef + eq + gw"
   ]
  },
  {
   "cell_type": "code",
   "execution_count": 6,
   "id": "61fea557",
   "metadata": {},
   "outputs": [],
   "source": [
    "def pulsar_model(psr, model_base):\n",
    "    \n",
    "    model = model_base\n",
    "    \n",
    "    # red noise\n",
    "    if psr.name+'_red_noise_gamma' in noise_ML:\n",
    "        log10_A = parameter.Uniform(-18,-11)\n",
    "        gamma = parameter.Uniform(0,7)\n",
    "        pl = utils.powerlaw(log10_A=log10_A, gamma=gamma)\n",
    "        rn = gp_signals.FourierBasisGP(spectrum=pl, components=30)\n",
    "        model += rn\n",
    "        \n",
    "    # DM variations\n",
    "    if psr.name+'_dm_gp_gamma' in noise_ML:\n",
    "        log10_A_dm = parameter.Uniform(-18,-8)\n",
    "        gamma_dm = parameter.Uniform(0, 7)\n",
    "        pl_dm = utils.powerlaw(log10_A=log10_A_dm, gamma=gamma_dm)\n",
    "        dm_basis = utils.createfourierdesignmatrix_dm(nmodes=100)\n",
    "        dm = gp_signals.BasisGP(priorFunction=pl_dm, basisFunction=dm_basis, name='dm')\n",
    "        model += dm\n",
    "        \n",
    "    return model(psr)"
   ]
  },
  {
   "cell_type": "code",
   "execution_count": 7,
   "id": "ba2d683f",
   "metadata": {},
   "outputs": [],
   "source": [
    "pta = signal_base.PTA([pulsar_model(psr,model_base) for psr in psrs])"
   ]
  },
  {
   "cell_type": "code",
   "execution_count": 8,
   "id": "679fc18c",
   "metadata": {},
   "outputs": [],
   "source": [
    "# noise dictionary reading\n",
    "noise_dict_dir = './white_noise_dict.json'\n",
    "with open(noise_dict_dir, 'r') as fp:\n",
    "    noise_dict = json.load(fp)\n",
    "    fp.close()\n",
    "\n",
    "# set the white noise parameters\n",
    "pta.set_default_params(noise_dict)"
   ]
  },
  {
   "cell_type": "code",
   "execution_count": 9,
   "id": "05bf97fe",
   "metadata": {},
   "outputs": [
    {
     "name": "stderr",
     "output_type": "stream",
     "text": [
      "/enterprise/enterprise/signals/utils.py:885: RuntimeWarning: invalid value encountered in divide\n",
      "  nmat = Mmat / norm\n"
     ]
    },
    {
     "name": "stdout",
     "output_type": "stream",
     "text": [
      "Traditional OS \n",
      "A^2 estimate: 1.0749262087888399e-29 +/- 2.1379541561378273e-30 with SNR: 5.027826278233548\n"
     ]
    }
   ],
   "source": [
    "# create object from NEW optimal statistic class\n",
    "os_obj = OptimalStatistic(psrs, pta, noise_ML)\n",
    "\n",
    "# Calculated \"Traditional OS\"\n",
    "print(f\"Traditional OS \\nA^2 estimate: {os_obj.os()} +/- {os_obj.os_sigma()} with SNR: {os_obj.snr()}\")"
   ]
  },
  {
   "cell_type": "code",
   "execution_count": 10,
   "id": "dbd6053a",
   "metadata": {},
   "outputs": [
    {
     "name": "stderr",
     "output_type": "stream",
     "text": [
      "100%|█████████████████████████████████████████████████████████████████████████████████████████████████████████████████████████████████████████████████████████████████████████████████████████████████████████████████████████████████████████| 300/300 [00:06<00:00, 45.33it/s]\n"
     ]
    }
   ],
   "source": [
    "covariance_matix_between_rhos = os_obj.gw_corr()"
   ]
  },
  {
   "cell_type": "code",
   "execution_count": 11,
   "id": "e2abed07",
   "metadata": {},
   "outputs": [
    {
     "name": "stdout",
     "output_type": "stream",
     "text": [
      "Num angles: 10, Num bins: 10, cov matrix shape: (10, 10)\n"
     ]
    }
   ],
   "source": [
    "# Get binned OS reconstruction with correlations\n",
    "avg_angles, binned_os, bin_cov_matrix = os_obj.binned_os_with_correlations(nbins=10)\n",
    "print(f\"Num angles: {avg_angles.size}, Num bins: {binned_os.size}, cov matrix shape: {bin_cov_matrix.shape}\")\n"
   ]
  },
  {
   "cell_type": "markdown",
   "id": "bd1548e1",
   "metadata": {},
   "source": [
    "We can also estimate the expected cosmic variance for this specif set of pulsars. See [Allen & Romano 2023](https://arxiv.org/abs/2208.07230) for more details."
   ]
  },
  {
   "cell_type": "code",
   "execution_count": 12,
   "id": "d866d377",
   "metadata": {},
   "outputs": [],
   "source": [
    "# confidence interval\n",
    "#-----------------------------------------------------------------------\n",
    "\n",
    "mu_bin = get_HD_curve(avg_angles) # normalization\n",
    "\n",
    "C_inv = np.linalg.inv(covariance_matix_between_rhos)\n",
    "\n",
    "mu_ab = get_HD_curve(os_obj.angles)\n",
    "\n",
    "interval = mu_bin**2 / (np.dot(mu_ab,np.dot(C_inv,mu_ab)))\n",
    "interval = np.sqrt(interval)"
   ]
  },
  {
   "cell_type": "code",
   "execution_count": 13,
   "id": "b29b4520",
   "metadata": {},
   "outputs": [
    {
     "name": "stderr",
     "output_type": "stream",
     "text": [
      "/work/serena.valtolina/PTA_realinj/A2.4/realinj_DR2final/tutorials/optimal_statistic_covariances.py:36: RuntimeWarning: divide by zero encountered in log\n",
      "  HD = 3. * (1. / 3. + xip * (np.log(xip) - 1. / 6.))\n",
      "/work/serena.valtolina/PTA_realinj/A2.4/realinj_DR2final/tutorials/optimal_statistic_covariances.py:36: RuntimeWarning: invalid value encountered in multiply\n",
      "  HD = 3. * (1. / 3. + xip * (np.log(xip) - 1. / 6.))\n"
     ]
    },
    {
     "data": {
      "image/png": "[encoded data removed]",
      "text/plain": [
       "<Figure size 640x480 with 1 Axes>"
      ]
     },
     "metadata": {},
     "output_type": "display_data"
    }
   ],
   "source": [
    "plt.errorbar(avg_angles*180/np.pi, binned_os/10**(2*noise_ML['gw_log10_A']), np.sqrt(np.diag(bin_cov_matrix))/10**(2*noise_ML['gw_log10_A']), capsize=1, color='blue', fmt='o')\n",
    "angles = np.linspace(0, np.pi, num=100)\n",
    "plt.plot(angles*180/np.pi, get_HD_curve(angles), c='k', ls='--', label='HD function')\n",
    "plt.scatter(avg_angles*180/np.pi, get_HD_curve(avg_angles)+interval/10**(2*noise_ML['gw_log10_A']), color='grey', marker='x', label='theoretical variance')  \n",
    "plt.scatter(avg_angles*180/np.pi, get_HD_curve(avg_angles)-interval/10**(2*noise_ML['gw_log10_A']), color='grey', marker='x')  \n",
    "\n",
    "plt.legend(loc='best')\n",
    "plt.xlabel('$\\gamma_{ab}$')\n",
    "plt.ylabel('$\\Gamma(\\gamma_{ab})$')\n",
    "plt.show()"
   ]
  },
  {
   "cell_type": "code",
   "execution_count": null,
   "id": "228bdb0a",
   "metadata": {},
   "outputs": [],
   "source": [
    "# saving the results\n",
    "\n",
    "import h5py\n",
    "h5f = h5py.File(f'./SMBHB_datasets/univ_'+univ_code+'/OSfinal_10bin.h5', 'w')\n",
    "h5f.create_dataset('/avg_angles', data=np.asarray(avg_angles) )\n",
    "h5f.create_dataset('/binned_os', data=np.asarray(binned_os) )\n",
    "h5f.create_dataset('/bin_cov_matrix', data=np.asarray(bin_cov_matrix) )\n",
    "h5f.create_dataset('/interval', data=np.asarray(interval))\n",
    "h5f.close()"
   ]
  }
 ],
 "metadata": {
  "kernelspec": {
   "display_name": "Python 3.7.3 64-bit",
   "language": "python",
   "name": "python3"
  },
  "language_info": {
   "codemirror_mode": {
    "name": "ipython",
    "version": 3
   },
   "file_extension": ".py",
   "mimetype": "text/x-python",
   "name": "python",
   "nbconvert_exporter": "python",
   "pygments_lexer": "ipython3",
   "version": "3.7.3"
  },
  "vscode": {
   "interpreter": {
    "hash": "31f2aee4e71d21fbe5cf8b01ff0e069b9275f58929596ceb00d14d90e3e16cd6"
   }
  }
 },
 "nbformat": 4,
 "nbformat_minor": 5
}
